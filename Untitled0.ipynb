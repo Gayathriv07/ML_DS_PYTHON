{
  "nbformat": 4,
  "nbformat_minor": 0,
  "metadata": {
    "colab": {
      "provenance": [],
      "authorship_tag": "ABX9TyO9r2AlZyDv9I8RN/RCeZyQ",
      "include_colab_link": true
    },
    "kernelspec": {
      "name": "python3",
      "display_name": "Python 3"
    },
    "language_info": {
      "name": "python"
    }
  },
  "cells": [
    {
      "cell_type": "markdown",
      "metadata": {
        "id": "view-in-github",
        "colab_type": "text"
      },
      "source": [
        "<a href=\"https://colab.research.google.com/github/Gayathriv07/ML_DS_PYTHON/blob/master/Untitled0.ipynb\" target=\"_parent\"><img src=\"https://colab.research.google.com/assets/colab-badge.svg\" alt=\"Open In Colab\"/></a>"
      ]
    },
    {
      "cell_type": "code",
      "execution_count": 1,
      "metadata": {
        "id": "AvDfAdny8Nhp"
      },
      "outputs": [],
      "source": [
        "data = {\n",
        "    \"greetings\": [\"hello\", \"hi\", \"hey\", \"howdy\", \"hola\"],\n",
        "    \"responses\": [\"Hello!\", \"Hi there!\", \"Hey!\", \"Greetings!\"],\n",
        "}"
      ]
    },
    {
      "cell_type": "code",
      "source": [
        "pip install nltk numpy"
      ],
      "metadata": {
        "colab": {
          "base_uri": "https://localhost:8080/"
        },
        "id": "n7EtJgc38beI",
        "outputId": "1d9c9ad5-6658-4a74-c9e8-bc0d90403f93"
      },
      "execution_count": 2,
      "outputs": [
        {
          "output_type": "stream",
          "name": "stdout",
          "text": [
            "Requirement already satisfied: nltk in /usr/local/lib/python3.10/dist-packages (3.8.1)\n",
            "Requirement already satisfied: numpy in /usr/local/lib/python3.10/dist-packages (1.25.2)\n",
            "Requirement already satisfied: click in /usr/local/lib/python3.10/dist-packages (from nltk) (8.1.7)\n",
            "Requirement already satisfied: joblib in /usr/local/lib/python3.10/dist-packages (from nltk) (1.3.2)\n",
            "Requirement already satisfied: regex>=2021.8.3 in /usr/local/lib/python3.10/dist-packages (from nltk) (2023.12.25)\n",
            "Requirement already satisfied: tqdm in /usr/local/lib/python3.10/dist-packages (from nltk) (4.66.2)\n"
          ]
        }
      ]
    },
    {
      "cell_type": "code",
      "source": [
        "import random\n",
        "import string\n",
        "import nltk\n",
        "from nltk.stem import PorterStemmer\n",
        "\n",
        "# Initialize NLTK\n",
        "nltk.download(\"punkt\")\n",
        "stemmer = PorterStemmer()\n",
        "\n",
        "# Load data from data.py\n",
        "data = {\n",
        "    \"greetings\": [\"hello\", \"hi\", \"hey\", \"howdy\", \"hola\"],\n",
        "    \"responses\": [\"Hello!\", \"Hi there!\", \"Hey!\", \"Greetings!\"],\n",
        "}\n",
        "\n",
        "# Tokenize and stem the user input\n",
        "def preprocess(sentence):\n",
        "    tokens = nltk.word_tokenize(sentence.lower())\n",
        "    return [stemmer.stem(token) for token in tokens]\n",
        "\n",
        "# Generate a response based on user input\n",
        "def get_response(user_input):\n",
        "    user_input = preprocess(user_input)\n",
        "    print(user_input)\n",
        "    for intent, patterns in data.items():\n",
        "        print(intent)\n",
        "        print(patterns)\n",
        "        for pattern in patterns:\n",
        "            print(pattern)\n",
        "            if all(word in user_input for word in preprocess(pattern)):\n",
        "                print(word)\n",
        "                return random.choice(data[intent])\n",
        "\n",
        "    return \"I'm sorry, I don't understand.\"\n",
        "\n",
        "# Chat loop\n",
        "def chat():\n",
        "    print(\"Chatbot: Hello! I'm your friendly chatbot. Type 'exit' to end the conversation.\")\n",
        "\n",
        "    while True:\n",
        "        user_input = input(\"You: \")\n",
        "\n",
        "        if user_input.lower() == \"exit\":\n",
        "            break\n",
        "\n",
        "        response = get_response(user_input)\n",
        "        print(\"Chatbot:\", response)\n",
        "\n",
        "if __name__ == \"__main__\":\n",
        "    chat()"
      ],
      "metadata": {
        "colab": {
          "base_uri": "https://localhost:8080/"
        },
        "id": "Gy1I2Kog8jJ9",
        "outputId": "44484922-65ee-4405-ed0a-6afe9b04cf09"
      },
      "execution_count": null,
      "outputs": [
        {
          "output_type": "stream",
          "name": "stderr",
          "text": [
            "[nltk_data] Downloading package punkt to /root/nltk_data...\n",
            "[nltk_data]   Package punkt is already up-to-date!\n"
          ]
        },
        {
          "output_type": "stream",
          "name": "stdout",
          "text": [
            "Chatbot: Hello! I'm your friendly chatbot. Type 'exit' to end the conversation.\n",
            "You: hi\n",
            "['hi']\n",
            "greetings\n",
            "['hello', 'hi', 'hey', 'howdy', 'hola']\n",
            "hello\n",
            "hi\n",
            "Chatbot: hey\n",
            "You: hi\n",
            "['hi']\n",
            "greetings\n",
            "['hello', 'hi', 'hey', 'howdy', 'hola']\n",
            "hello\n",
            "hi\n",
            "Chatbot: hello\n",
            "You: hi\n",
            "['hi']\n",
            "greetings\n",
            "['hello', 'hi', 'hey', 'howdy', 'hola']\n",
            "hello\n",
            "hi\n",
            "Chatbot: hi\n",
            "You: hi\n",
            "['hi']\n",
            "greetings\n",
            "['hello', 'hi', 'hey', 'howdy', 'hola']\n",
            "hello\n",
            "hi\n",
            "Chatbot: hello\n",
            "You: hi\n",
            "['hi']\n",
            "greetings\n",
            "['hello', 'hi', 'hey', 'howdy', 'hola']\n",
            "hello\n",
            "hi\n",
            "Chatbot: hola\n"
          ]
        }
      ]
    }
  ]
}